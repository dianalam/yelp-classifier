{
 "cells": [
  {
   "cell_type": "code",
   "execution_count": null,
   "metadata": {
    "collapsed": true
   },
   "outputs": [],
   "source": [
    "\"\"\"features: \n",
    "- average sentence length (in words)\n",
    "- average review length (in words)\n",
    "- average review length (in sentences)\n",
    "- paragraph rate\n",
    "- bulleted or numbered list rate\n",
    "- all caps, bad punctuation, run on sentences?\n",
    "- bag of words: common words in elite vs. not elite; fp, fn, etc. \n",
    "\"\"\""
   ]
  },
  {
   "cell_type": "code",
   "execution_count": 598,
   "metadata": {
    "collapsed": false
   },
   "outputs": [],
   "source": [
    "from __future__ import unicode_literals\n",
    "import string, re\n",
    "import pandas as pd\n",
    "import numpy as np\n",
    "import nltk\n",
    "from nltk.corpus import stopwords\n",
    "from nltk.stem import WordNetLemmatizer\n",
    "from nltk.stem.porter import PorterStemmer\n",
    "from spacy.en import English, STOPWORDS\n",
    "from sklearn.feature_extraction.text import CountVectorizer, TfidfTransformer\n",
    "from sklearn.ensemble import RandomForestClassifier\n",
    "from sklearn.metrics import accuracy_score, precision_score, recall_score, f1_score\n",
    "\n",
    "from tqdm import tqdm, tqdm_pandas"
   ]
  },
  {
   "cell_type": "code",
   "execution_count": 2,
   "metadata": {
    "collapsed": false
   },
   "outputs": [],
   "source": [
    "nlp = English()"
   ]
  },
  {
   "cell_type": "code",
   "execution_count": 467,
   "metadata": {
    "collapsed": false
   },
   "outputs": [],
   "source": [
    "reviews = pd.read_csv('data/yelp_academic_dataset_review.csv')"
   ]
  },
  {
   "cell_type": "code",
   "execution_count": 378,
   "metadata": {
    "collapsed": false
   },
   "outputs": [],
   "source": [
    "stop = STOPWORDS\n",
    "punct = {p for p in string.punctuation}"
   ]
  },
  {
   "cell_type": "code",
   "execution_count": 475,
   "metadata": {
    "collapsed": true
   },
   "outputs": [],
   "source": [
    "def cleantext(text):\n",
    "    tokens = [token.lemma_.strip() for token in nlp(text.decode('utf8'))] # lemmatize \n",
    "    filtered = [token for token in tokens if token not in punct]\n",
    "    while \"\" in filtered:\n",
    "        filtered.remove(\"\")\n",
    "    while \" \" in filtered:\n",
    "        filtered.remove(\" \")\n",
    "    while \"\\n\" in filtered:\n",
    "        filtered.remove(\"\\n\")\n",
    "    while \"\\n\\n\" in filtered:\n",
    "        filtered.remove(\"\\n\\n\")\n",
    "    return filtered"
   ]
  },
  {
   "cell_type": "code",
   "execution_count": 572,
   "metadata": {
    "collapsed": true
   },
   "outputs": [],
   "source": [
    "def get_num_words(text):\n",
    "    letters_only = re.sub(\"[^a-zA-Z]\", \" \", text) \n",
    "    words = letters_only.lower().split()\n",
    "    return len(words)"
   ]
  },
  {
   "cell_type": "code",
   "execution_count": 654,
   "metadata": {
    "collapsed": false
   },
   "outputs": [],
   "source": [
    "def get_num_sents(text):\n",
    "    return len([sent for sent in nlp(text).sents])"
   ]
  },
  {
   "cell_type": "code",
   "execution_count": 633,
   "metadata": {
    "collapsed": false
   },
   "outputs": [
    {
     "name": "stdout",
     "output_type": "stream",
     "text": [
      "4\n"
     ]
    }
   ],
   "source": [
    "print get_num_sents(b)"
   ]
  },
  {
   "cell_type": "code",
   "execution_count": 640,
   "metadata": {
    "collapsed": false
   },
   "outputs": [],
   "source": [
    "d = 'this is a sentence. this is another sentence! some ellipses...(and also other stuff)'"
   ]
  },
  {
   "cell_type": "code",
   "execution_count": 641,
   "metadata": {
    "collapsed": false
   },
   "outputs": [
    {
     "data": {
      "text/plain": [
       "[this is a sentence.,\n",
       " this is another sentence!,\n",
       " some ellipses...,\n",
       " (and also other stuff)]"
      ]
     },
     "execution_count": 641,
     "metadata": {},
     "output_type": "execute_result"
    }
   ],
   "source": [
    "[sent for sent in nlp(d).sents]"
   ]
  },
  {
   "cell_type": "code",
   "execution_count": 642,
   "metadata": {
    "collapsed": false
   },
   "outputs": [
    {
     "data": {
      "text/plain": [
       "[u'Mr Hoagie is an institution',\n",
       " u'Walking in, it does seem like a throwback to 30 years ago, old fashioned menu board, booths out of the 70s, and a large selection of food',\n",
       " u'Their speciality is the Italian Hoagie, and it is voted the best in the area year after year',\n",
       " u'I usually order the burger, while the patties are obviously cooked from frozen, all of the other ingredients are very fresh',\n",
       " u'Overall, its a good alternative to Subway, which is down the road.']"
      ]
     },
     "execution_count": 642,
     "metadata": {},
     "output_type": "execute_result"
    }
   ],
   "source": [
    "b.split('. ')"
   ]
  },
  {
   "cell_type": "code",
   "execution_count": 585,
   "metadata": {
    "collapsed": false
   },
   "outputs": [
    {
     "data": {
      "text/plain": [
       "5"
      ]
     },
     "execution_count": 585,
     "metadata": {},
     "output_type": "execute_result"
    }
   ],
   "source": [
    "get_num_sents(b)"
   ]
  },
  {
   "cell_type": "code",
   "execution_count": 476,
   "metadata": {
    "collapsed": false
   },
   "outputs": [],
   "source": [
    "def get_clean_tokens(text):\n",
    "    #letters_only = re.sub(\"[^a-zA-Z]\", \" \", text) \n",
    "    union = punct.union(stop)\n",
    "    #spacing = {'', ' ', '\\n', '\\n\\n'}\n",
    "    tokens = [token.lemma_ for token in nlp(text.decode('utf8'))]\n",
    "    filtered = [token for token in tokens if token not in union]\n",
    "    while \"\" in filtered:\n",
    "        filtered.remove(\"\")\n",
    "    while \" \" in filtered:\n",
    "        filtered.remove(\" \")\n",
    "    while \"\\n\" in filtered:\n",
    "        filtered.remove(\"\\n\")\n",
    "    while \"\\n\\n\" in filtered:\n",
    "        filtered.remove(\"\\n\\n\")\n",
    "    return ' '.join(filtered)"
   ]
  },
  {
   "cell_type": "code",
   "execution_count": 613,
   "metadata": {
    "collapsed": false
   },
   "outputs": [],
   "source": [
    "# version without utf decoding\n",
    "# def get_clean_tokens2(text):  \n",
    "#     letters_only = re.sub(\"[^a-zA-Z]\", \" \", text) \n",
    "#     words = ' '.join(letters_only.lower().split())\n",
    "#     tokens = [token.lemma_ for token in nlp(words)]\n",
    "#     filtered = [t for t in tokens if t not in stop and t != '' and t != ' ' and t != '\\n' and t != '\\n\\n']\n",
    "#     return ' '.join(filtered)"
   ]
  },
  {
   "cell_type": "code",
   "execution_count": 669,
   "metadata": {
    "collapsed": true
   },
   "outputs": [],
   "source": [
    "# uses utf decoding\n",
    "def get_clean_tokens2(text):  \n",
    "    letters_only = re.sub(\"[^a-zA-Z]\", \" \", text) \n",
    "    words = ' '.join(letters_only.lower().split())\n",
    "    tokens = [token.lemma_ for token in nlp(words)]\n",
    "    filtered = [t for t in tokens if t not in stop and t != '' and t != ' ' and t != '\\n' and t != '\\n\\n']\n",
    "    return filtered"
   ]
  },
  {
   "cell_type": "code",
   "execution_count": 677,
   "metadata": {
    "collapsed": true
   },
   "outputs": [],
   "source": [
    "# uses utf decoding -- \n",
    "def get_clean_tokens3(text):\n",
    "    union = punct.union(stop)\n",
    "    tokens = [token.lemma_ for token in nlp(text)]\n",
    "    filtered = [t for t in tokens if t not in union and t != '' and t != ' ' and t != '\\n' and t != '\\n\\n']\n",
    "    return filtered"
   ]
  },
  {
   "cell_type": "code",
   "execution_count": 678,
   "metadata": {
    "collapsed": false
   },
   "outputs": [
    {
     "data": {
      "text/plain": [
       "[u'mr',\n",
       " u'hoagie',\n",
       " u'institution',\n",
       " u'walk',\n",
       " u'like',\n",
       " u'throwback',\n",
       " u'30',\n",
       " u'year',\n",
       " u'ago',\n",
       " u'old',\n",
       " u'fashion',\n",
       " u'menu',\n",
       " u'board',\n",
       " u'booth',\n",
       " u'70',\n",
       " u'large',\n",
       " u'selection',\n",
       " u'food',\n",
       " u'speciality',\n",
       " u'italian',\n",
       " u'hoagie',\n",
       " u'vote',\n",
       " u'best',\n",
       " u'area',\n",
       " u'year',\n",
       " u'year',\n",
       " u'usually',\n",
       " u'order',\n",
       " u'burger',\n",
       " u'patty',\n",
       " u'obviously',\n",
       " u'cook',\n",
       " u'frozen',\n",
       " u'ingredient',\n",
       " u'fresh',\n",
       " u'overall',\n",
       " u'good',\n",
       " u'alternative',\n",
       " u'subway',\n",
       " u'road']"
      ]
     },
     "execution_count": 678,
     "metadata": {},
     "output_type": "execute_result"
    }
   ],
   "source": [
    "get_clean_tokens3(b.decode('utf8'))"
   ]
  },
  {
   "cell_type": "code",
   "execution_count": 666,
   "metadata": {
    "collapsed": false
   },
   "outputs": [
    {
     "data": {
      "text/plain": [
       "'Mr Hoagie is an institution. Walking in, it does seem like a throwback to 30 years ago, old fashioned menu board, booths out of the 70s, and a large selection of food. Their speciality is the Italian Hoagie, and it is voted the best in the area year after year. I usually order the burger, while the patties are obviously cooked from frozen, all of the other ingredients are very fresh. Overall, its a good alternative to Subway, which is down the road.'"
      ]
     },
     "execution_count": 666,
     "metadata": {},
     "output_type": "execute_result"
    }
   ],
   "source": [
    "b"
   ]
  },
  {
   "cell_type": "code",
   "execution_count": 282,
   "metadata": {
    "collapsed": true
   },
   "outputs": [],
   "source": [
    "def remove_stopwrds(l):\n",
    "    l = [t for t in l if t not in stop]\n",
    "    return ' '.join(l)"
   ]
  },
  {
   "cell_type": "code",
   "execution_count": 279,
   "metadata": {
    "collapsed": true
   },
   "outputs": [],
   "source": [
    "def get_features(df):\n",
    "    # get number of words in single review\n",
    "    df.loc[:,'review_len_wrds'] = df.loc[:,'text'].apply(lambda x: len(cleantext(x)))\n",
    "    \n",
    "    # get number of sentences in single review\n",
    "    df.loc[:,'review_len_sent'] = df.loc[:,'text'].apply(\n",
    "        lambda x: len([sent for sent in nlp(x.decode('utf8')).sents])) # better way?\n",
    "    \n",
    "    # get average number of words per sentence \n",
    "    df.loc[:,'avg_wrds_in_sent'] = df.loc[:,'review_len_wrds'] / df.loc[:,'review_len_sent']\n",
    "    \n",
    "    # get cleaned tokens for bag of words\n",
    "    df.loc[:,'clean_tkns'] = df.loc[:, 'text'].apply(lambda x: get_clean_tokens(x))"
   ]
  },
  {
   "cell_type": "code",
   "execution_count": 672,
   "metadata": {
    "collapsed": true
   },
   "outputs": [],
   "source": [
    "def get_features2(df):\n",
    "    # decode\n",
    "    df.loc[:, 'text'] = df.loc[:, 'text'].apply(lambda x: x.decode('utf8'))\n",
    "    \n",
    "    # get number of words in single review\n",
    "    df.loc[:,'review_len_wrds'] = df.loc[:,'text'].apply(lambda x: get_num_words(x))\n",
    "    \n",
    "    # get number of sentences in single review\n",
    "    df.loc[:,'review_len_sent'] = df.loc[:,'text'].apply(lambda x: get_num_sents(x))\n",
    "    \n",
    "    # get average number of words per sentence \n",
    "    df.loc[:,'avg_wrds_in_sent'] = df.loc[:,'review_len_wrds'] / df.loc[:,'review_len_sent']\n",
    "    \n",
    "    # get cleaned tokens for bag of words\n",
    "    df.loc[:,'clean_tkns'] = df.loc[:, 'text'].apply(lambda x: get_clean_tokens2(x))"
   ]
  },
  {
   "cell_type": "code",
   "execution_count": 448,
   "metadata": {
    "collapsed": false
   },
   "outputs": [
    {
     "name": "stdout",
     "output_type": "stream",
     "text": [
      "CPU times: user 982 µs, sys: 442 µs, total: 1.42 ms\n",
      "Wall time: 1.09 ms\n"
     ]
    },
    {
     "data": {
      "text/plain": [
       "u'check place past monday wing night heard wing great decid final time check wing wing crispi nice chang pace got wet cajun sauc garlic butter wing cajun bold flavor sauc sauc garlic butter expect better averag t like see sauc rest boat definit come tri place sampl item menu probabl regular stop wing anytim soon'"
      ]
     },
     "execution_count": 448,
     "metadata": {},
     "output_type": "execute_result"
    }
   ],
   "source": [
    "%time get_clean_tokens2(t)"
   ]
  },
  {
   "cell_type": "code",
   "execution_count": 597,
   "metadata": {
    "collapsed": false
   },
   "outputs": [
    {
     "name": "stdout",
     "output_type": "stream",
     "text": [
      "CPU times: user 644 ms, sys: 80.2 ms, total: 724 ms\n",
      "Wall time: 729 ms\n"
     ]
    }
   ],
   "source": [
    "%time get_features(test2)"
   ]
  },
  {
   "cell_type": "code",
   "execution_count": 480,
   "metadata": {
    "collapsed": false
   },
   "outputs": [
    {
     "name": "stdout",
     "output_type": "stream",
     "text": [
      "CPU times: user 32.7 s, sys: 576 ms, total: 33.3 s\n",
      "Wall time: 34 s\n"
     ]
    }
   ],
   "source": [
    "%time get_features(test4)"
   ]
  },
  {
   "cell_type": "code",
   "execution_count": 655,
   "metadata": {
    "collapsed": false
   },
   "outputs": [
    {
     "name": "stdout",
     "output_type": "stream",
     "text": [
      "CPU times: user 20.3 s, sys: 407 ms, total: 20.7 s\n",
      "Wall time: 20.8 s\n"
     ]
    }
   ],
   "source": [
    "%time get_features2(test4)"
   ]
  },
  {
   "cell_type": "code",
   "execution_count": 673,
   "metadata": {
    "collapsed": false
   },
   "outputs": [
    {
     "name": "stdout",
     "output_type": "stream",
     "text": [
      "CPU times: user 10.7 s, sys: 101 ms, total: 10.8 s\n",
      "Wall time: 11 s\n"
     ]
    }
   ],
   "source": [
    "%time get_features2(test4)"
   ]
  },
  {
   "cell_type": "code",
   "execution_count": 650,
   "metadata": {
    "collapsed": false
   },
   "outputs": [
    {
     "name": "stdout",
     "output_type": "stream",
     "text": [
      "CPU times: user 175 ms, sys: 8.02 ms, total: 183 ms\n",
      "Wall time: 218 ms\n"
     ]
    }
   ],
   "source": [
    "%time decode(test4)"
   ]
  },
  {
   "cell_type": "code",
   "execution_count": 652,
   "metadata": {
    "collapsed": false
   },
   "outputs": [
    {
     "data": {
      "text/plain": [
       "u'Mr Hoagie is an institution. Walking in, it does seem like a throwback to 30 years ago, old fashioned menu board, booths out of the 70s, and a large selection of food. Their speciality is the Italian Hoagie, and it is voted the best in the area year after year. I usually order the burger, while the patties are obviously cooked from frozen, all of the other ingredients are very fresh. Overall, its a good alternative to Subway, which is down the road.'"
      ]
     },
     "execution_count": 652,
     "metadata": {},
     "output_type": "execute_result"
    }
   ],
   "source": []
  },
  {
   "cell_type": "code",
   "execution_count": null,
   "metadata": {
    "collapsed": true
   },
   "outputs": [],
   "source": [
    "100 = 3.67"
   ]
  },
  {
   "cell_type": "code",
   "execution_count": 468,
   "metadata": {
    "collapsed": true
   },
   "outputs": [],
   "source": [
    "test = reviews.loc[0:5, :]\n",
    "test2 = reviews.loc[6:11, :]"
   ]
  },
  {
   "cell_type": "code",
   "execution_count": 469,
   "metadata": {
    "collapsed": true
   },
   "outputs": [],
   "source": [
    "test3 = reviews.loc[:100, :]"
   ]
  },
  {
   "cell_type": "code",
   "execution_count": 479,
   "metadata": {
    "collapsed": true
   },
   "outputs": [],
   "source": [
    "test4 = reviews.loc[:1000, :]"
   ]
  },
  {
   "cell_type": "code",
   "execution_count": 659,
   "metadata": {
    "collapsed": false,
    "scrolled": true
   },
   "outputs": [
    {
     "data": {
      "text/html": [
       "<div>\n",
       "<table border=\"1\" class=\"dataframe\">\n",
       "  <thead>\n",
       "    <tr style=\"text-align: right;\">\n",
       "      <th></th>\n",
       "      <th>user_id</th>\n",
       "      <th>review_id</th>\n",
       "      <th>text</th>\n",
       "      <th>votes.cool</th>\n",
       "      <th>business_id</th>\n",
       "      <th>votes.funny</th>\n",
       "      <th>stars</th>\n",
       "      <th>date</th>\n",
       "      <th>type</th>\n",
       "      <th>votes.useful</th>\n",
       "      <th>review_len_wrds</th>\n",
       "      <th>review_len_sent</th>\n",
       "      <th>avg_wrds_in_sent</th>\n",
       "      <th>clean_tkns</th>\n",
       "    </tr>\n",
       "  </thead>\n",
       "  <tbody>\n",
       "    <tr>\n",
       "      <th>0</th>\n",
       "      <td>PUFPaY9KxDAcGqfsorJp3Q</td>\n",
       "      <td>Ya85v4eqdd6k9Od8HbQjyA</td>\n",
       "      <td>Mr Hoagie is an institution. Walking in, it do...</td>\n",
       "      <td>0</td>\n",
       "      <td>5UmKMjUEUNdYWqANhGckJw</td>\n",
       "      <td>0</td>\n",
       "      <td>4</td>\n",
       "      <td>2012-08-01</td>\n",
       "      <td>review</td>\n",
       "      <td>0</td>\n",
       "      <td>82</td>\n",
       "      <td>5</td>\n",
       "      <td>16.400000</td>\n",
       "      <td>mr hoagie institution walk like throwback year...</td>\n",
       "    </tr>\n",
       "    <tr>\n",
       "      <th>1</th>\n",
       "      <td>Iu6AxdBYGR4A0wspR9BYHA</td>\n",
       "      <td>KPvLNJ21_4wbYNctrOwWdQ</td>\n",
       "      <td>Excellent food. Superb customer service. I mis...</td>\n",
       "      <td>0</td>\n",
       "      <td>5UmKMjUEUNdYWqANhGckJw</td>\n",
       "      <td>0</td>\n",
       "      <td>5</td>\n",
       "      <td>2014-02-13</td>\n",
       "      <td>review</td>\n",
       "      <td>0</td>\n",
       "      <td>24</td>\n",
       "      <td>3</td>\n",
       "      <td>8.000000</td>\n",
       "      <td>excellent food superb customer service miss ma...</td>\n",
       "    </tr>\n",
       "    <tr>\n",
       "      <th>2</th>\n",
       "      <td>auESFwWvW42h6alXgFxAXQ</td>\n",
       "      <td>fFSoGV46Yxuwbr3fHNuZig</td>\n",
       "      <td>Yes this place is a little out dated and not o...</td>\n",
       "      <td>0</td>\n",
       "      <td>5UmKMjUEUNdYWqANhGckJw</td>\n",
       "      <td>0</td>\n",
       "      <td>5</td>\n",
       "      <td>2015-10-31</td>\n",
       "      <td>review</td>\n",
       "      <td>0</td>\n",
       "      <td>73</td>\n",
       "      <td>6</td>\n",
       "      <td>12.166667</td>\n",
       "      <td>yes place little date open weekend staff pleas...</td>\n",
       "    </tr>\n",
       "    <tr>\n",
       "      <th>3</th>\n",
       "      <td>uK8tzraOp4M5u3uYrqIBXg</td>\n",
       "      <td>Di3exaUCFNw1V4kSNW5pgA</td>\n",
       "      <td>All the food is great here. But the best thing...</td>\n",
       "      <td>0</td>\n",
       "      <td>UsFtqoBl7naz8AVUBZMjQQ</td>\n",
       "      <td>0</td>\n",
       "      <td>5</td>\n",
       "      <td>2013-11-08</td>\n",
       "      <td>review</td>\n",
       "      <td>0</td>\n",
       "      <td>75</td>\n",
       "      <td>9</td>\n",
       "      <td>8.333333</td>\n",
       "      <td>food great best thing wing wing simply fantast...</td>\n",
       "    </tr>\n",
       "    <tr>\n",
       "      <th>4</th>\n",
       "      <td>I_47G-R2_egp7ME5u_ltew</td>\n",
       "      <td>0Lua2-PbqEQMjD9r89-asw</td>\n",
       "      <td>We checked this place out this past Monday for...</td>\n",
       "      <td>0</td>\n",
       "      <td>UsFtqoBl7naz8AVUBZMjQQ</td>\n",
       "      <td>0</td>\n",
       "      <td>3</td>\n",
       "      <td>2014-03-29</td>\n",
       "      <td>review</td>\n",
       "      <td>0</td>\n",
       "      <td>138</td>\n",
       "      <td>8</td>\n",
       "      <td>17.250000</td>\n",
       "      <td>check place past monday wing night hear wing g...</td>\n",
       "    </tr>\n",
       "  </tbody>\n",
       "</table>\n",
       "</div>"
      ],
      "text/plain": [
       "                  user_id               review_id  \\\n",
       "0  PUFPaY9KxDAcGqfsorJp3Q  Ya85v4eqdd6k9Od8HbQjyA   \n",
       "1  Iu6AxdBYGR4A0wspR9BYHA  KPvLNJ21_4wbYNctrOwWdQ   \n",
       "2  auESFwWvW42h6alXgFxAXQ  fFSoGV46Yxuwbr3fHNuZig   \n",
       "3  uK8tzraOp4M5u3uYrqIBXg  Di3exaUCFNw1V4kSNW5pgA   \n",
       "4  I_47G-R2_egp7ME5u_ltew  0Lua2-PbqEQMjD9r89-asw   \n",
       "\n",
       "                                                text  votes.cool  \\\n",
       "0  Mr Hoagie is an institution. Walking in, it do...           0   \n",
       "1  Excellent food. Superb customer service. I mis...           0   \n",
       "2  Yes this place is a little out dated and not o...           0   \n",
       "3  All the food is great here. But the best thing...           0   \n",
       "4  We checked this place out this past Monday for...           0   \n",
       "\n",
       "              business_id  votes.funny  stars        date    type  \\\n",
       "0  5UmKMjUEUNdYWqANhGckJw            0      4  2012-08-01  review   \n",
       "1  5UmKMjUEUNdYWqANhGckJw            0      5  2014-02-13  review   \n",
       "2  5UmKMjUEUNdYWqANhGckJw            0      5  2015-10-31  review   \n",
       "3  UsFtqoBl7naz8AVUBZMjQQ            0      5  2013-11-08  review   \n",
       "4  UsFtqoBl7naz8AVUBZMjQQ            0      3  2014-03-29  review   \n",
       "\n",
       "   votes.useful  review_len_wrds  review_len_sent  avg_wrds_in_sent  \\\n",
       "0             0               82                5         16.400000   \n",
       "1             0               24                3          8.000000   \n",
       "2             0               73                6         12.166667   \n",
       "3             0               75                9          8.333333   \n",
       "4             0              138                8         17.250000   \n",
       "\n",
       "                                          clean_tkns  \n",
       "0  mr hoagie institution walk like throwback year...  \n",
       "1  excellent food superb customer service miss ma...  \n",
       "2  yes place little date open weekend staff pleas...  \n",
       "3  food great best thing wing wing simply fantast...  \n",
       "4  check place past monday wing night hear wing g...  "
      ]
     },
     "execution_count": 659,
     "metadata": {},
     "output_type": "execute_result"
    }
   ],
   "source": [
    "test4.head()"
   ]
  },
  {
   "cell_type": "code",
   "execution_count": 470,
   "metadata": {
    "collapsed": true
   },
   "outputs": [],
   "source": [
    "df = reviews.loc[:100, :]"
   ]
  },
  {
   "cell_type": "code",
   "execution_count": 471,
   "metadata": {
    "collapsed": false
   },
   "outputs": [],
   "source": [
    "b = test.loc[0, 'text']"
   ]
  },
  {
   "cell_type": "code",
   "execution_count": 272,
   "metadata": {
    "collapsed": false
   },
   "outputs": [
    {
     "data": {
      "text/plain": [
       "u'Mr Hoagie is an institution. Walking in, it does seem like a throwback to 30 years ago, old fashioned menu board, booths out of the 70s, and a large selection of food. Their speciality is the Italian Hoagie, and it is voted the best in the area year after year. I usually order the burger, while the patties are obviously cooked from frozen, all of the other ingredients are very fresh. Overall, its a good alternative to Subway, which is down the road.'"
      ]
     },
     "execution_count": 272,
     "metadata": {},
     "output_type": "execute_result"
    }
   ],
   "source": [
    "b.decode('utf8')"
   ]
  },
  {
   "cell_type": "code",
   "execution_count": 220,
   "metadata": {
    "collapsed": true
   },
   "outputs": [],
   "source": [
    "t = test.loc[4, 'text']"
   ]
  },
  {
   "cell_type": "code",
   "execution_count": 199,
   "metadata": {
    "collapsed": false
   },
   "outputs": [
    {
     "data": {
      "text/plain": [
       "u'wing sauce like water pretty much lot butter hot sauce frank red hot maybe whole wing good size crispy 1 wing sauce could better hot extra hot flavor/heat fish sandwich good large portion side decent'"
      ]
     },
     "execution_count": 199,
     "metadata": {},
     "output_type": "execute_result"
    }
   ],
   "source": [
    "get_clean_tokens(t)"
   ]
  },
  {
   "cell_type": "code",
   "execution_count": 200,
   "metadata": {
    "collapsed": false
   },
   "outputs": [],
   "source": [
    "test.loc[:,'review_len_wrds'] = test.loc[:,'text'].apply(lambda x: len(cleantext(x))) # number of words \n",
    "test.loc[:,'review_len_sent'] = test.loc[:,'text'].apply(\n",
    "    lambda x: len([sent for sent in nlp(unicode(x)).sents])) # number of sentences; there must be a better way"
   ]
  },
  {
   "cell_type": "code",
   "execution_count": 201,
   "metadata": {
    "collapsed": false
   },
   "outputs": [],
   "source": [
    "test.loc[:,'avg_wrds_in_sent'] = test.loc[:,'review_len_wrds'] / test.loc[:,'review_len_sent']"
   ]
  },
  {
   "cell_type": "code",
   "execution_count": 210,
   "metadata": {
    "collapsed": true
   },
   "outputs": [],
   "source": [
    "# get cleaned tokens\n",
    "test.loc[:,'clean_tkns'] = test.loc[:, 'text'].apply(lambda x: get_clean_tokens(x)))"
   ]
  },
  {
   "cell_type": "code",
   "execution_count": 224,
   "metadata": {
    "collapsed": false
   },
   "outputs": [
    {
     "name": "stderr",
     "output_type": "stream",
     "text": [
      "/anaconda/lib/python2.7/site-packages/ipykernel/__main__.py:2: SettingWithCopyWarning: \n",
      "A value is trying to be set on a copy of a slice from a DataFrame.\n",
      "Try using .loc[row_indexer,col_indexer] = value instead\n",
      "\n",
      "See the caveats in the documentation: http://pandas.pydata.org/pandas-docs/stable/indexing.html#indexing-view-versus-copy\n",
      "  from ipykernel import kernelapp as app\n"
     ]
    }
   ],
   "source": [
    "# add fake elite\n",
    "test['is_elite'] = [1, 0, 0, 1, 1, 0]"
   ]
  },
  {
   "cell_type": "code",
   "execution_count": 227,
   "metadata": {
    "collapsed": false
   },
   "outputs": [
    {
     "data": {
      "text/plain": [
       "u'w'"
      ]
     },
     "execution_count": 227,
     "metadata": {},
     "output_type": "execute_result"
    }
   ],
   "source": [
    "test.loc[5, 'clean_tkns'][0]"
   ]
  },
  {
   "cell_type": "code",
   "execution_count": 211,
   "metadata": {
    "collapsed": true
   },
   "outputs": [],
   "source": [
    "# get paragraph breaks "
   ]
  },
  {
   "cell_type": "code",
   "execution_count": 228,
   "metadata": {
    "collapsed": true
   },
   "outputs": [],
   "source": [
    "# test model?\n",
    "vectorizer = CountVectorizer(analyzer = \"word\",   \\\n",
    "                             tokenizer = None,    \\\n",
    "                             preprocessor = None, \\\n",
    "                             stop_words = None) \n",
    "features = vectorizer.fit_transform(test.clean_tkns)\n",
    "words = vectorizer.get_feature_names()\n",
    "features = features.toarray()"
   ]
  },
  {
   "cell_type": "code",
   "execution_count": 244,
   "metadata": {
    "collapsed": true
   },
   "outputs": [],
   "source": [
    "# get counts for each word in corpus \n",
    "dist = np.sum(features, axis = 0)\n",
    "print sorted(zip(words, dist), key = lambda x: x[1], reverse = True)[:5]"
   ]
  },
  {
   "cell_type": "code",
   "execution_count": 249,
   "metadata": {
    "collapsed": false
   },
   "outputs": [],
   "source": [
    "model = RandomForestClassifier(n_estimators = 50).fit(features, test.is_elite)"
   ]
  },
  {
   "cell_type": "code",
   "execution_count": 252,
   "metadata": {
    "collapsed": false
   },
   "outputs": [
    {
     "name": "stdout",
     "output_type": "stream",
     "text": [
      "acc: 1.0\n",
      "acc: [ 1.  1.]\n",
      "acc: [ 1.  1.]\n",
      "acc: [ 1.  1.]\n"
     ]
    }
   ],
   "source": [
    "pred = model.predict(features)\n",
    "print 'acc:', accuracy_score(test.is_elite, pred)\n",
    "print 'acc:', precision_score(test.is_elite, pred, average = None)\n",
    "print 'acc:', recall_score(test.is_elite, pred, average = None)\n",
    "print 'acc:', f1_score(test.is_elite, pred, average = None)"
   ]
  },
  {
   "cell_type": "code",
   "execution_count": 253,
   "metadata": {
    "collapsed": false
   },
   "outputs": [
    {
     "data": {
      "text/html": [
       "<div>\n",
       "<table border=\"1\" class=\"dataframe\">\n",
       "  <thead>\n",
       "    <tr style=\"text-align: right;\">\n",
       "      <th></th>\n",
       "      <th>user_id</th>\n",
       "      <th>review_id</th>\n",
       "      <th>text</th>\n",
       "      <th>votes.cool</th>\n",
       "      <th>business_id</th>\n",
       "      <th>votes.funny</th>\n",
       "      <th>stars</th>\n",
       "      <th>date</th>\n",
       "      <th>type</th>\n",
       "      <th>votes.useful</th>\n",
       "    </tr>\n",
       "  </thead>\n",
       "  <tbody>\n",
       "    <tr>\n",
       "      <th>6</th>\n",
       "      <td>JPPhyFE-UE453zA6K0TVgw</td>\n",
       "      <td>mjCJR33jvUNt41iJCxDU_g</td>\n",
       "      <td>Cold cheap beer. Good bar food. Good service. ...</td>\n",
       "      <td>0</td>\n",
       "      <td>UsFtqoBl7naz8AVUBZMjQQ</td>\n",
       "      <td>0</td>\n",
       "      <td>4</td>\n",
       "      <td>2014-11-28</td>\n",
       "      <td>review</td>\n",
       "      <td>0</td>\n",
       "    </tr>\n",
       "    <tr>\n",
       "      <th>7</th>\n",
       "      <td>2d5HeDvZTDUNVog_WuUpSg</td>\n",
       "      <td>Ieh3kfZ-5J9pLju4JiQDvQ</td>\n",
       "      <td>I highly recommend this place. The mechanics a...</td>\n",
       "      <td>0</td>\n",
       "      <td>3eu6MEFlq2Dg7bQh8QbdOg</td>\n",
       "      <td>0</td>\n",
       "      <td>5</td>\n",
       "      <td>2014-02-27</td>\n",
       "      <td>review</td>\n",
       "      <td>0</td>\n",
       "    </tr>\n",
       "    <tr>\n",
       "      <th>8</th>\n",
       "      <td>BShxMIUwaJS378xcrz4Nmg</td>\n",
       "      <td>PU28OoBSHpZLkYGCmNxlmg</td>\n",
       "      <td>I am a big believer in first impressions, so w...</td>\n",
       "      <td>0</td>\n",
       "      <td>3eu6MEFlq2Dg7bQh8QbdOg</td>\n",
       "      <td>0</td>\n",
       "      <td>5</td>\n",
       "      <td>2015-06-16</td>\n",
       "      <td>review</td>\n",
       "      <td>0</td>\n",
       "    </tr>\n",
       "    <tr>\n",
       "      <th>9</th>\n",
       "      <td>fhNxoMwwTipzjO8A9LFe8Q</td>\n",
       "      <td>XsA6AojkWjOHA4FmuAb8XQ</td>\n",
       "      <td>Decent range somewhat close to the city.  The ...</td>\n",
       "      <td>0</td>\n",
       "      <td>cE27W9VPgO88Qxe4ol6y_g</td>\n",
       "      <td>0</td>\n",
       "      <td>3</td>\n",
       "      <td>2012-08-19</td>\n",
       "      <td>review</td>\n",
       "      <td>1</td>\n",
       "    </tr>\n",
       "    <tr>\n",
       "      <th>10</th>\n",
       "      <td>-6rEfobYjMxpUWLNxszaxQ</td>\n",
       "      <td>rkD7UDbQ9VM3Va6bI-eBHQ</td>\n",
       "      <td>Owning a driving range inside the city limits ...</td>\n",
       "      <td>0</td>\n",
       "      <td>cE27W9VPgO88Qxe4ol6y_g</td>\n",
       "      <td>0</td>\n",
       "      <td>1</td>\n",
       "      <td>2013-04-18</td>\n",
       "      <td>review</td>\n",
       "      <td>1</td>\n",
       "    </tr>\n",
       "    <tr>\n",
       "      <th>11</th>\n",
       "      <td>KZuaJtFindQM9x2ZoMBxcQ</td>\n",
       "      <td>WExNE-f93SL4D1q8s9QWKg</td>\n",
       "      <td>This place is absolute garbage...  Half of the...</td>\n",
       "      <td>0</td>\n",
       "      <td>cE27W9VPgO88Qxe4ol6y_g</td>\n",
       "      <td>0</td>\n",
       "      <td>1</td>\n",
       "      <td>2013-07-14</td>\n",
       "      <td>review</td>\n",
       "      <td>0</td>\n",
       "    </tr>\n",
       "  </tbody>\n",
       "</table>\n",
       "</div>"
      ],
      "text/plain": [
       "                   user_id               review_id  \\\n",
       "6   JPPhyFE-UE453zA6K0TVgw  mjCJR33jvUNt41iJCxDU_g   \n",
       "7   2d5HeDvZTDUNVog_WuUpSg  Ieh3kfZ-5J9pLju4JiQDvQ   \n",
       "8   BShxMIUwaJS378xcrz4Nmg  PU28OoBSHpZLkYGCmNxlmg   \n",
       "9   fhNxoMwwTipzjO8A9LFe8Q  XsA6AojkWjOHA4FmuAb8XQ   \n",
       "10  -6rEfobYjMxpUWLNxszaxQ  rkD7UDbQ9VM3Va6bI-eBHQ   \n",
       "11  KZuaJtFindQM9x2ZoMBxcQ  WExNE-f93SL4D1q8s9QWKg   \n",
       "\n",
       "                                                 text  votes.cool  \\\n",
       "6   Cold cheap beer. Good bar food. Good service. ...           0   \n",
       "7   I highly recommend this place. The mechanics a...           0   \n",
       "8   I am a big believer in first impressions, so w...           0   \n",
       "9   Decent range somewhat close to the city.  The ...           0   \n",
       "10  Owning a driving range inside the city limits ...           0   \n",
       "11  This place is absolute garbage...  Half of the...           0   \n",
       "\n",
       "               business_id  votes.funny  stars        date    type  \\\n",
       "6   UsFtqoBl7naz8AVUBZMjQQ            0      4  2014-11-28  review   \n",
       "7   3eu6MEFlq2Dg7bQh8QbdOg            0      5  2014-02-27  review   \n",
       "8   3eu6MEFlq2Dg7bQh8QbdOg            0      5  2015-06-16  review   \n",
       "9   cE27W9VPgO88Qxe4ol6y_g            0      3  2012-08-19  review   \n",
       "10  cE27W9VPgO88Qxe4ol6y_g            0      1  2013-04-18  review   \n",
       "11  cE27W9VPgO88Qxe4ol6y_g            0      1  2013-07-14  review   \n",
       "\n",
       "    votes.useful  \n",
       "6              0  \n",
       "7              0  \n",
       "8              0  \n",
       "9              1  \n",
       "10             1  \n",
       "11             0  "
      ]
     },
     "execution_count": 253,
     "metadata": {},
     "output_type": "execute_result"
    }
   ],
   "source": []
  },
  {
   "cell_type": "code",
   "execution_count": 213,
   "metadata": {
    "collapsed": false
   },
   "outputs": [
    {
     "data": {
      "text/plain": [
       "[u'mr hoagie institution walk seem like throwback 30 year ago old fashion menu board booth 70 large selection food speciality italian hoagie vote best area year year usually order burger patty obviously cook frozen ingredient fresh overall good alternative subway road',\n",
       " u'excellent food superb customer service miss mario machine use still great place steep tradition',\n",
       " u'yes place little date open weekend staff always pleasant fast make order always spot fresh veggie hoggies food also daily special ice cream really good banana split pile topping win pennysaver award ever year see',\n",
       " u\"food great best thing wing wing simply fantastic wet cajun best popular also like seasoned salt wing wing night monday wednesday night 0.75 whole wing dining area nice family friendly bar nice well place truly yinzer 's dream pittsburgh dad would love place n'at\",\n",
       " u'check place past monday wing night hear wing great decide finally time check wing whole wing crispy nice change pace get wet cajun sauce garlic butter wing cajun bold enough flavor sauce thin sauce also thin garlic butter expect better average like see sauce rest bottom boat would definitely come try place sample item menu probably become regular stop wing anytime soon',\n",
       " u'wing sauce like water pretty much lot butter hot sauce frank red hot maybe whole wing good size crispy 1 wing sauce could better hot extra hot flavor/heat fish sandwich good large portion side decent']"
      ]
     },
     "execution_count": 213,
     "metadata": {},
     "output_type": "execute_result"
    }
   ],
   "source": [
    "list(test.clean_tkns)"
   ]
  },
  {
   "cell_type": "code",
   "execution_count": 225,
   "metadata": {
    "collapsed": false
   },
   "outputs": [
    {
     "data": {
      "text/html": [
       "<div>\n",
       "<table border=\"1\" class=\"dataframe\">\n",
       "  <thead>\n",
       "    <tr style=\"text-align: right;\">\n",
       "      <th></th>\n",
       "      <th>user_id</th>\n",
       "      <th>review_id</th>\n",
       "      <th>text</th>\n",
       "      <th>votes.cool</th>\n",
       "      <th>business_id</th>\n",
       "      <th>votes.funny</th>\n",
       "      <th>stars</th>\n",
       "      <th>date</th>\n",
       "      <th>type</th>\n",
       "      <th>votes.useful</th>\n",
       "      <th>review_len_wrds</th>\n",
       "      <th>review_len_sent</th>\n",
       "      <th>avg_wrds_in_sent</th>\n",
       "      <th>clean_tkns</th>\n",
       "      <th>is_elite</th>\n",
       "    </tr>\n",
       "  </thead>\n",
       "  <tbody>\n",
       "    <tr>\n",
       "      <th>0</th>\n",
       "      <td>PUFPaY9KxDAcGqfsorJp3Q</td>\n",
       "      <td>Ya85v4eqdd6k9Od8HbQjyA</td>\n",
       "      <td>Mr Hoagie is an institution. Walking in, it do...</td>\n",
       "      <td>0</td>\n",
       "      <td>5UmKMjUEUNdYWqANhGckJw</td>\n",
       "      <td>0</td>\n",
       "      <td>4</td>\n",
       "      <td>2012-08-01</td>\n",
       "      <td>review</td>\n",
       "      <td>0</td>\n",
       "      <td>83</td>\n",
       "      <td>5</td>\n",
       "      <td>16.600000</td>\n",
       "      <td>mr hoagie institution walk seem like throwback...</td>\n",
       "      <td>1</td>\n",
       "    </tr>\n",
       "    <tr>\n",
       "      <th>1</th>\n",
       "      <td>Iu6AxdBYGR4A0wspR9BYHA</td>\n",
       "      <td>KPvLNJ21_4wbYNctrOwWdQ</td>\n",
       "      <td>Excellent food. Superb customer service. I mis...</td>\n",
       "      <td>0</td>\n",
       "      <td>5UmKMjUEUNdYWqANhGckJw</td>\n",
       "      <td>0</td>\n",
       "      <td>5</td>\n",
       "      <td>2014-02-13</td>\n",
       "      <td>review</td>\n",
       "      <td>0</td>\n",
       "      <td>23</td>\n",
       "      <td>3</td>\n",
       "      <td>7.666667</td>\n",
       "      <td>excellent food superb customer service miss ma...</td>\n",
       "      <td>0</td>\n",
       "    </tr>\n",
       "    <tr>\n",
       "      <th>2</th>\n",
       "      <td>auESFwWvW42h6alXgFxAXQ</td>\n",
       "      <td>fFSoGV46Yxuwbr3fHNuZig</td>\n",
       "      <td>Yes this place is a little out dated and not o...</td>\n",
       "      <td>0</td>\n",
       "      <td>5UmKMjUEUNdYWqANhGckJw</td>\n",
       "      <td>0</td>\n",
       "      <td>5</td>\n",
       "      <td>2015-10-31</td>\n",
       "      <td>review</td>\n",
       "      <td>0</td>\n",
       "      <td>73</td>\n",
       "      <td>6</td>\n",
       "      <td>12.166667</td>\n",
       "      <td>yes place little date open weekend staff alway...</td>\n",
       "      <td>0</td>\n",
       "    </tr>\n",
       "    <tr>\n",
       "      <th>3</th>\n",
       "      <td>uK8tzraOp4M5u3uYrqIBXg</td>\n",
       "      <td>Di3exaUCFNw1V4kSNW5pgA</td>\n",
       "      <td>All the food is great here. But the best thing...</td>\n",
       "      <td>0</td>\n",
       "      <td>UsFtqoBl7naz8AVUBZMjQQ</td>\n",
       "      <td>0</td>\n",
       "      <td>5</td>\n",
       "      <td>2013-11-08</td>\n",
       "      <td>review</td>\n",
       "      <td>0</td>\n",
       "      <td>75</td>\n",
       "      <td>9</td>\n",
       "      <td>8.333333</td>\n",
       "      <td>food great best thing wing wing simply fantast...</td>\n",
       "      <td>1</td>\n",
       "    </tr>\n",
       "    <tr>\n",
       "      <th>4</th>\n",
       "      <td>I_47G-R2_egp7ME5u_ltew</td>\n",
       "      <td>0Lua2-PbqEQMjD9r89-asw</td>\n",
       "      <td>We checked this place out this past Monday for...</td>\n",
       "      <td>0</td>\n",
       "      <td>UsFtqoBl7naz8AVUBZMjQQ</td>\n",
       "      <td>0</td>\n",
       "      <td>3</td>\n",
       "      <td>2014-03-29</td>\n",
       "      <td>review</td>\n",
       "      <td>0</td>\n",
       "      <td>138</td>\n",
       "      <td>8</td>\n",
       "      <td>17.250000</td>\n",
       "      <td>check place past monday wing night hear wing g...</td>\n",
       "      <td>1</td>\n",
       "    </tr>\n",
       "  </tbody>\n",
       "</table>\n",
       "</div>"
      ],
      "text/plain": [
       "                  user_id               review_id  \\\n",
       "0  PUFPaY9KxDAcGqfsorJp3Q  Ya85v4eqdd6k9Od8HbQjyA   \n",
       "1  Iu6AxdBYGR4A0wspR9BYHA  KPvLNJ21_4wbYNctrOwWdQ   \n",
       "2  auESFwWvW42h6alXgFxAXQ  fFSoGV46Yxuwbr3fHNuZig   \n",
       "3  uK8tzraOp4M5u3uYrqIBXg  Di3exaUCFNw1V4kSNW5pgA   \n",
       "4  I_47G-R2_egp7ME5u_ltew  0Lua2-PbqEQMjD9r89-asw   \n",
       "\n",
       "                                                text  votes.cool  \\\n",
       "0  Mr Hoagie is an institution. Walking in, it do...           0   \n",
       "1  Excellent food. Superb customer service. I mis...           0   \n",
       "2  Yes this place is a little out dated and not o...           0   \n",
       "3  All the food is great here. But the best thing...           0   \n",
       "4  We checked this place out this past Monday for...           0   \n",
       "\n",
       "              business_id  votes.funny  stars        date    type  \\\n",
       "0  5UmKMjUEUNdYWqANhGckJw            0      4  2012-08-01  review   \n",
       "1  5UmKMjUEUNdYWqANhGckJw            0      5  2014-02-13  review   \n",
       "2  5UmKMjUEUNdYWqANhGckJw            0      5  2015-10-31  review   \n",
       "3  UsFtqoBl7naz8AVUBZMjQQ            0      5  2013-11-08  review   \n",
       "4  UsFtqoBl7naz8AVUBZMjQQ            0      3  2014-03-29  review   \n",
       "\n",
       "   votes.useful  review_len_wrds  review_len_sent  avg_wrds_in_sent  \\\n",
       "0             0               83                5         16.600000   \n",
       "1             0               23                3          7.666667   \n",
       "2             0               73                6         12.166667   \n",
       "3             0               75                9          8.333333   \n",
       "4             0              138                8         17.250000   \n",
       "\n",
       "                                          clean_tkns  is_elite  \n",
       "0  mr hoagie institution walk seem like throwback...         1  \n",
       "1  excellent food superb customer service miss ma...         0  \n",
       "2  yes place little date open weekend staff alway...         0  \n",
       "3  food great best thing wing wing simply fantast...         1  \n",
       "4  check place past monday wing night hear wing g...         1  "
      ]
     },
     "execution_count": 225,
     "metadata": {},
     "output_type": "execute_result"
    }
   ],
   "source": [
    "test.head()"
   ]
  },
  {
   "cell_type": "code",
   "execution_count": 174,
   "metadata": {
    "collapsed": false
   },
   "outputs": [
    {
     "data": {
      "text/plain": [
       "(2225213, 10)"
      ]
     },
     "execution_count": 174,
     "metadata": {},
     "output_type": "execute_result"
    }
   ],
   "source": [
    "reviews.shape"
   ]
  },
  {
   "cell_type": "code",
   "execution_count": 175,
   "metadata": {
    "collapsed": false
   },
   "outputs": [
    {
     "ename": "NameError",
     "evalue": "name 'byuser' is not defined",
     "output_type": "error",
     "traceback": [
      "\u001b[0;31m---------------------------------------------------------------------------\u001b[0m",
      "\u001b[0;31mNameError\u001b[0m                                 Traceback (most recent call last)",
      "\u001b[0;32m<ipython-input-175-47be9d62d09d>\u001b[0m in \u001b[0;36m<module>\u001b[0;34m()\u001b[0m\n\u001b[0;32m----> 1\u001b[0;31m \u001b[0mbyuser\u001b[0m\u001b[0;34m.\u001b[0m\u001b[0mcount\u001b[0m\u001b[0;34m(\u001b[0m\u001b[0;34m)\u001b[0m\u001b[0;34m\u001b[0m\u001b[0m\n\u001b[0m",
      "\u001b[0;31mNameError\u001b[0m: name 'byuser' is not defined"
     ]
    }
   ],
   "source": [
    "byuser.count()"
   ]
  },
  {
   "cell_type": "code",
   "execution_count": 17,
   "metadata": {
    "collapsed": false
   },
   "outputs": [],
   "source": [
    "sents = []\n",
    "for span in doc.sents:\n",
    "    # go from the start to the end of each span, returning each token in the sentence\n",
    "    # combine each token using join()\n",
    "    sent = ''.join(doc[i].string for i in range(span.start, span.end)).strip()\n",
    "    sents.append(sent)"
   ]
  },
  {
   "cell_type": "code",
   "execution_count": 18,
   "metadata": {
    "collapsed": false
   },
   "outputs": [],
   "source": [
    "trial = []\n",
    "for sent in doc.sents:\n",
    "    trial.append(str(sent))"
   ]
  },
  {
   "cell_type": "code",
   "execution_count": 53,
   "metadata": {
    "collapsed": false
   },
   "outputs": [
    {
     "data": {
      "text/plain": [
       "19.399999999999999"
      ]
     },
     "execution_count": 53,
     "metadata": {},
     "output_type": "execute_result"
    }
   ],
   "source": [
    "np.mean([len(sent) for sent in doc.sents])"
   ]
  },
  {
   "cell_type": "code",
   "execution_count": 28,
   "metadata": {
    "collapsed": false
   },
   "outputs": [
    {
     "data": {
      "text/plain": [
       "'Mr Hoagie is an institution.'"
      ]
     },
     "execution_count": 28,
     "metadata": {},
     "output_type": "execute_result"
    }
   ],
   "source": [
    "trial[0]"
   ]
  },
  {
   "cell_type": "code",
   "execution_count": null,
   "metadata": {
    "collapsed": true
   },
   "outputs": [],
   "source": []
  }
 ],
 "metadata": {
  "kernelspec": {
   "display_name": "Python 2",
   "language": "python",
   "name": "python2"
  },
  "language_info": {
   "codemirror_mode": {
    "name": "ipython",
    "version": 2
   },
   "file_extension": ".py",
   "mimetype": "text/x-python",
   "name": "python",
   "nbconvert_exporter": "python",
   "pygments_lexer": "ipython2",
   "version": "2.7.11"
  }
 },
 "nbformat": 4,
 "nbformat_minor": 0
}
